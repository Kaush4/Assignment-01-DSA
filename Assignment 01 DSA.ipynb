{
 "cells": [
  {
   "cell_type": "code",
   "execution_count": 29,
   "id": "531139c7",
   "metadata": {},
   "outputs": [
    {
     "name": "stdout",
     "output_type": "stream",
     "text": [
      "Pair of integers whose sum is equal to given number are (2, 6)\n",
      "Pair of integers whose sum is equal to given number are (7, 1)\n",
      "Pair of integers whose sum is equal to given number are (1, 7)\n",
      "Pair of integers whose sum is equal to given number are (4, 4)\n"
     ]
    }
   ],
   "source": [
    "# Solve these questions in a Jupyter notebook. Share the URL of the Jupyter notebook/GitHub.\n",
    "\n",
    "# Q1. Write a program to find all pairs of an integer array whose sum is equal to a given number?\n",
    "# solution:\n",
    "array=[2,7,9,1,5,7,4,6,4]\n",
    "sum= 8\n",
    "for i in range(len(array)):\n",
    "    for j in range(i+1,len(array)):\n",
    "        if array[i]+array[j]==sum:\n",
    "            print(\"Pair of integers whose sum is equal to given number are\",(array[i],array[j]))"
   ]
  },
  {
   "cell_type": "code",
   "execution_count": 50,
   "id": "13ce1660",
   "metadata": {},
   "outputs": [
    {
     "data": {
      "text/plain": [
       "[70, 60, 50, 40, 30, 20, 10]"
      ]
     },
     "execution_count": 50,
     "metadata": {},
     "output_type": "execute_result"
    }
   ],
   "source": [
    "# Q2. Write a program to reverse an array in place? In place means you cannot create a new array.\n",
    "# You have to update the original array.\n",
    "# solution:\n",
    "def reverse(array):\n",
    "    start=0\n",
    "    end= len(array)-1\n",
    "    for m in range(0,len(array)//2):\n",
    "        array[start],array[end]=array[end],array[start]\n",
    "        start=start+1\n",
    "        end=end-1\n",
    "    return array\n",
    "\n",
    "array=[10,20,30,40,50,60,70]\n",
    "reverse(array)"
   ]
  },
  {
   "cell_type": "code",
   "execution_count": 62,
   "id": "f35d6ff8",
   "metadata": {},
   "outputs": [
    {
     "name": "stdout",
     "output_type": "stream",
     "text": [
      "Given Strings are rotational of each other\n"
     ]
    }
   ],
   "source": [
    "# Q3. Write a program to check if two strings are a rotation of each other?\n",
    "# solution:\n",
    "def check_rotational(s1,s2):\n",
    "    if len(s1) != len(s2):\n",
    "        return False\n",
    "    match= s1+s1\n",
    "    if s2 in match:\n",
    "        return True\n",
    "    return False\n",
    "\n",
    "string1=\"KAUSHAL\"\n",
    "string2=\"SHALKAU\"\n",
    "if check_rotational((string1),(string2)):\n",
    "    print(\"Given Strings are rotational of each other\")\n",
    "else:\n",
    "    print(\"Given Strings are not rotational of each other\")"
   ]
  },
  {
   "cell_type": "code",
   "execution_count": 41,
   "id": "77b4ff43",
   "metadata": {},
   "outputs": [
    {
     "name": "stdout",
     "output_type": "stream",
     "text": [
      "First non-repeating character =  s\n"
     ]
    }
   ],
   "source": [
    "# Q4. Write a program to print the first non-repeated character from a string?\n",
    "# solution:\n",
    "myStr = \"kauskauu\"\n",
    "while myStr != \"\":\n",
    "    string_len0 = len(myStr)\n",
    "    ch = myStr[0]\n",
    "    myStr = myStr.replace(ch, \"\")\n",
    "    string_len1 = len(myStr)\n",
    "    if string_len1 == string_len0-1:\n",
    "        print (\"First non-repeating character = \",ch)\n",
    "        break\n",
    "else:\n",
    "    print (\"No Unique Character Found!\")"
   ]
  },
  {
   "cell_type": "code",
   "execution_count": 29,
   "id": "7ec71b31",
   "metadata": {},
   "outputs": [
    {
     "name": "stdout",
     "output_type": "stream",
     "text": [
      "Move disk 1 from source A to destination B\n",
      "Move disk 2 from source A to destination C\n",
      "Move disk 1 from source B to destination C\n",
      "Move disk 3 from source A to destination B\n",
      "Move disk 1 from source C to destination A\n",
      "Move disk 2 from source C to destination B\n",
      "Move disk 1 from source A to destination B\n"
     ]
    }
   ],
   "source": [
    "# Q5. Read about the Tower of Hanoi algorithm. Write a program to implement it.\n",
    "# solution:\n",
    "def TowerOfhanoi(n , source, destination, auxiliary):\n",
    "    if n==1:\n",
    "        print (\"Move disk 1 from source\",source,\"to destination\",destination)\n",
    "        return\n",
    "    TowerOfhanoi(n-1, source, auxiliary, destination)\n",
    "    print (\"Move disk\",n,\"from source\",source,\"to destination\",destination)\n",
    "    TowerOfhanoi(n-1, auxiliary, destination, source)\n",
    "n = 3\n",
    "TowerOfhanoi(n,'A','B','C')"
   ]
  },
  {
   "cell_type": "code",
   "execution_count": 30,
   "id": "09d4cde8",
   "metadata": {},
   "outputs": [
    {
     "name": "stdout",
     "output_type": "stream",
     "text": [
      "Prefix :  +AB-CD\n"
     ]
    }
   ],
   "source": [
    "# Q6. Read about infix, prefix, and postfix expressions. Write a program to convert postfix to prefix expression.\n",
    "# solution:\n",
    "def isOperator(x):\n",
    "    if x == \"+\":\n",
    "        return True\n",
    "    if x == \"-\":\n",
    "        return True\n",
    "    if x == \"/\":\n",
    "        return True\n",
    "    if x == \"*\":\n",
    "        return True\n",
    "    return False\n",
    "def postToPre(post_exp):\n",
    "    s = []\n",
    "    length = len(post_exp)\n",
    "    for i in range(length):\n",
    "        if (isOperator(post_exp[i])):\n",
    "            op1 = s[-1]\n",
    "            s.pop()\n",
    "            op2 = s[-1]\n",
    "            s.pop()\n",
    "            temp = post_exp[i] + op2 + op1\n",
    "            s.append(temp)\n",
    "        else:\n",
    "            s.append(post_exp[i])\n",
    " \n",
    "    ans = \"\"\n",
    "    for i in s:\n",
    "        ans += i\n",
    "    return ans\n",
    "if __name__ == \"__main__\":\n",
    " \n",
    "    post_exp = \"AB+CD-\"\n",
    "    print(\"Prefix : \", postToPre(post_exp))"
   ]
  },
  {
   "cell_type": "code",
   "execution_count": 33,
   "id": "89c72d7b",
   "metadata": {},
   "outputs": [
    {
     "name": "stdout",
     "output_type": "stream",
     "text": [
      "infix is: ((A-(B/C))*((A/K)-L))\n"
     ]
    }
   ],
   "source": [
    "# Q7. Write a program to convert prefix expression to infix expression.\n",
    "# solution:\n",
    "def prefixToInfix(prefix):\n",
    "    stack = []\n",
    "    i = len(prefix) - 1\n",
    "    while i >= 0:\n",
    "        if not isOperator(prefix[i]):\n",
    "            stack.append(prefix[i])\n",
    "            i -= 1\n",
    "        else:\n",
    "            str = \"(\" + stack.pop() + prefix[i] + stack.pop() + \")\"\n",
    "            stack.append(str)\n",
    "            i -= 1\n",
    "    return stack.pop()\n",
    "def isOperator(c):\n",
    "    if c == \"*\" or c == \"+\" or c == \"-\" or c == \"/\" or c == \"^\" or c == \"(\" or c == \")\":\n",
    "        return True\n",
    "    else:\n",
    "        return False\n",
    "    \n",
    "str = \"*-A/BC-/AKL\"\n",
    "print(\"infix is:\",prefixToInfix(str))"
   ]
  },
  {
   "cell_type": "code",
   "execution_count": 66,
   "id": "59767ac3",
   "metadata": {},
   "outputs": [
    {
     "data": {
      "text/plain": [
       "True"
      ]
     },
     "execution_count": 66,
     "metadata": {},
     "output_type": "execute_result"
    }
   ],
   "source": [
    "# Q8. Write a program to check if all the brackets are closed in a given code snippet.\n",
    "# solution:\n",
    "def check_brackets(s):\n",
    "    stack=[]\n",
    "    for i in range(len(str)):\n",
    "        if (str[i]==\"[\" or str[i]==\"{\" or str[i]==\"(\"):\n",
    "            stack.append(str[i])\n",
    "        elif (len(stack)!=0 and stack[-1]==\"[\" and str[i]==\"]\"):\n",
    "            stack.pop()\n",
    "        elif (len(stack)!=0 and stack[-1]==\"{\" and str[i]==\"}\"):\n",
    "            stack.pop()\n",
    "        elif (len(stack)!=0 and stack[-1]==\"(\" and str[i]==\")\"):\n",
    "            stack.pop()\n",
    "        else:\n",
    "            return False\n",
    "    if len(stack)==0:\n",
    "        return True\n",
    "    else:\n",
    "        return False\n",
    "str=\"[{()}]\"\n",
    "check_brackets(str)"
   ]
  },
  {
   "cell_type": "code",
   "execution_count": 78,
   "id": "48ef21e9",
   "metadata": {},
   "outputs": [
    {
     "name": "stdout",
     "output_type": "stream",
     "text": [
      "Please enter the elements to push: 45 85 63 23 14\n",
      "The stack:\n",
      "14\n",
      "23\n",
      "63\n",
      "85\n",
      "45\n",
      "After reversing:\n",
      "45\n",
      "85\n",
      "63\n",
      "23\n",
      "14\n"
     ]
    }
   ],
   "source": [
    "# Q9. Write a program to reverse a stack.\n",
    "# solution:\n",
    "class Stack:\n",
    "    def __init__(self):\n",
    "        self.items = []\n",
    "    def is_empty(self):\n",
    "        return self.items == []\n",
    "    def push(self, data):\n",
    "        self.items.append(data)\n",
    "    def pop(self):\n",
    "        return self.items.pop()\n",
    "    def display(self):\n",
    "        for data in reversed(self.items):\n",
    "            print(data)\n",
    "def insert_at_bottom(s, data):\n",
    "    if s.is_empty():\n",
    "        s.push(data)\n",
    "    else:\n",
    "        popped = s.pop()\n",
    "        insert_at_bottom(s, data)\n",
    "        s.push(popped)\n",
    "def reverse(s):\n",
    "    if not s.is_empty():\n",
    "        popped = s.pop()\n",
    "        reverse(s)\n",
    "        insert_at_bottom(s, popped)\n",
    " \n",
    " \n",
    "        \n",
    "s = Stack()\n",
    "data_list = input('Please enter the elements to push: ').split()\n",
    "for data in data_list:\n",
    "    s.push(int(data))\n",
    " \n",
    "print('The stack:')\n",
    "s.display()\n",
    "reverse(s)\n",
    "print('After reversing:')\n",
    "s.display()"
   ]
  },
  {
   "cell_type": "code",
   "execution_count": 88,
   "id": "22de4282",
   "metadata": {},
   "outputs": [
    {
     "name": "stdout",
     "output_type": "stream",
     "text": [
      "Smallest element present in given array is 16\n"
     ]
    }
   ],
   "source": [
    "# Q10. Write a program to find the smallest number using a stack.\n",
    "# solution:     \n",
    "arr = [25, 91, 44, 75, 16]\n",
    "x = arr[0]      \n",
    "for i in range(0, len(arr)):  \n",
    "    if(arr[i] < x):    \n",
    "        x = arr[i];    \n",
    "     \n",
    "print(\"Smallest element present in given array is\",x)"
   ]
  }
 ],
 "metadata": {
  "kernelspec": {
   "display_name": "Python 3 (ipykernel)",
   "language": "python",
   "name": "python3"
  },
  "language_info": {
   "codemirror_mode": {
    "name": "ipython",
    "version": 3
   },
   "file_extension": ".py",
   "mimetype": "text/x-python",
   "name": "python",
   "nbconvert_exporter": "python",
   "pygments_lexer": "ipython3",
   "version": "3.9.12"
  }
 },
 "nbformat": 4,
 "nbformat_minor": 5
}
